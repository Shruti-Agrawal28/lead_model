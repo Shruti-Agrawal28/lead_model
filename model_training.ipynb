{
 "cells": [
  {
   "attachments": {},
   "cell_type": "markdown",
   "metadata": {},
   "source": [
    "***IMPORTING MODULES***\n"
   ]
  },
  {
   "cell_type": "code",
   "execution_count": 17,
   "metadata": {},
   "outputs": [],
   "source": [
    "from sklearn.linear_model import LogisticRegression\n",
    "from sklearn.naive_bayes import MultinomialNB\n",
    "from sklearn.ensemble import RandomForestClassifier\n",
    "from sklearn.neural_network import MLPClassifier\n",
    "from sklearn.model_selection import train_test_split\n",
    "import pandas as pd\n",
    "import numpy as np\n",
    "import decimal\n",
    "import warnings\n",
    "warnings.filterwarnings(\"ignore\")\n",
    "from sklearn.metrics import accuracy_score, roc_curve, recall_score, precision_score, f1_score"
   ]
  },
  {
   "attachments": {},
   "cell_type": "markdown",
   "metadata": {},
   "source": [
    "***LOADING DATA***"
   ]
  },
  {
   "cell_type": "code",
   "execution_count": 18,
   "metadata": {},
   "outputs": [],
   "source": [
    "df = pd.read_csv(\"cleaned_data.csv\")"
   ]
  },
  {
   "attachments": {},
   "cell_type": "markdown",
   "metadata": {},
   "source": [
    "***PREDICTING LEAD SCORE***"
   ]
  },
  {
   "cell_type": "code",
   "execution_count": 19,
   "metadata": {},
   "outputs": [],
   "source": [
    "def checking(df):\n",
    "        for i in df:\n",
    "            X = df.drop([\"status\"],axis=1)\n",
    "            y = df[\"status\"]\n",
    "            X_train, X_test, y_train, y_test = train_test_split(X, y, test_size=0.33, random_state=42)\n",
    "            log_reg = LogisticRegression()\n",
    "            log_reg.fit(X_train, y_train)\n",
    "            probability=log_reg.predict_proba(X_train)[:,1]\n",
    "            lt1 = probability.tolist()\n",
    "            X_train[\"lead_score\"] = lt1\n",
    "            test_prob=log_reg.predict_proba(X_test)[:,1]\n",
    "            lt2 = test_prob.tolist()\n",
    "            X_test[\"lead_score\"] = lt2\n",
    "            \n",
    "            for i in X_train[\"lead_score\"].index:\n",
    "                j = X_train[\"lead_score\"][i] \n",
    "                prob = float(decimal.Decimal(j))\n",
    "                X_train[\"lead_score\"][i] = prob * 100\n",
    "            for k in X_test[\"lead_score\"].index:\n",
    "                l = X_test[\"lead_score\"][k] \n",
    "                prob1 = float(decimal.Decimal(j))\n",
    "                X_test[\"lead_score\"][k] = prob1 * 100\n",
    "            training= pd.concat([X_train, y_train], axis=1)\n",
    "            testing= pd.concat([X_test, y_test], axis=1)\n",
    "            training.to_csv(\"lead_train_data.csv\",index= False)\n",
    "            testing.to_csv(\"lead_test_data.csv\",index= False)\n",
    "            break\n",
    "        \n",
    "checking(df)\n"
   ]
  },
  {
   "attachments": {},
   "cell_type": "markdown",
   "metadata": {},
   "source": [
    "#### TRAINING AND EVALUATING MODEL"
   ]
  },
  {
   "cell_type": "code",
   "execution_count": 20,
   "metadata": {},
   "outputs": [],
   "source": [
    "train_data = pd.read_csv(\"lead_train_data.csv\")\n",
    "test_data = pd.read_csv(\"lead_test_data.csv\")\n",
    "X_train = train_data.drop(\"status\", axis=1)\n",
    "X_test = test_data.drop(\"status\", axis=1)\n",
    "y_train = train_data[\"status\"]\n",
    "y_test = test_data[\"status\"]\n"
   ]
  },
  {
   "cell_type": "code",
   "execution_count": 21,
   "metadata": {},
   "outputs": [],
   "source": [
    "def evaluate_model(model, x_train, y_train, x_test, y_test):\n",
    "    model = model.fit(x_train, y_train)\n",
    "    predict_train_y = model.predict(x_train)\n",
    "    predict_test_y = model.predict(x_test)\n",
    "\n",
    "    print(\"**Accuracy Score**\")\n",
    "    train_accuracy = accuracy_score(y_train, predict_train_y)\n",
    "    test_accuracy = accuracy_score(y_test, predict_test_y)\n",
    "    print(\"Train Accuracy is: %s\"%(train_accuracy))\n",
    "    print(\"\\nTest Accuracy is: %s\"%(test_accuracy))\n",
    "    print(\"---------------------------------------------------------\")\n",
    "    \n",
    "    print(\"\\n**Precision score**\")\n",
    "    _accuracy = precision_score(y_train, predict_train_y)\n",
    "    t_accuracy = precision_score(y_test, predict_test_y)\n",
    "    print(\"Train precision is: %s\"%(_accuracy))\n",
    "    print(\"\\nTest precision is: %s\"%(_accuracy))\n",
    "    print(\"---------------------------------------------------------\")\n",
    "    \n",
    "    print(\"\\n**Recall score**\")\n",
    "    r_accuracy = recall_score(y_train, predict_train_y)\n",
    "    rt_accuracy = recall_score(y_test, predict_test_y)\n",
    "    print(\"Train precision is: %s\"%(r_accuracy))\n",
    "    print(\"\\nTest precision is: %s\"%(rt_accuracy))\n",
    "    print(\"---------------------------------------------------------\")\n",
    "\n",
    "    print(\"\\n**f1 score**\")\n",
    "    \n",
    "    print(\"Train f1 score is: %s\"%(2*(r_accuracy * _accuracy) / (r_accuracy + _accuracy)))\n",
    "    print(\"\\nTest f1 score is: %s\"%(2*(t_accuracy *rt_accuracy ) / (t_accuracy + rt_accuracy)))\n"
   ]
  },
  {
   "cell_type": "code",
   "execution_count": 22,
   "metadata": {},
   "outputs": [],
   "source": [
    "model = LogisticRegression()"
   ]
  },
  {
   "cell_type": "code",
   "execution_count": 23,
   "metadata": {},
   "outputs": [
    {
     "name": "stdout",
     "output_type": "stream",
     "text": [
      "**Accuracy Score**\n",
      "Train Accuracy is: 0.9350152594099694\n",
      "\n",
      "Test Accuracy is: 0.9334159438248658\n",
      "---------------------------------------------------------\n",
      "\n",
      "**Precision score**\n",
      "Train precision is: 0.40376569037656906\n",
      "\n",
      "Test precision is: 0.40376569037656906\n",
      "---------------------------------------------------------\n",
      "\n",
      "**Recall score**\n",
      "Train precision is: 0.1282392026578073\n",
      "\n",
      "Test precision is: 0.054333764553686936\n",
      "---------------------------------------------------------\n",
      "\n",
      "**f1 score**\n",
      "Train f1 score is: 0.19465456379223398\n",
      "\n",
      "Test f1 score is: 0.09438202247191012\n"
     ]
    }
   ],
   "source": [
    "evaluate_model(model, x_train= X_train, y_train=y_train, x_test= X_test, y_test= y_test)"
   ]
  }
 ],
 "metadata": {
  "kernelspec": {
   "display_name": "Python 3",
   "language": "python",
   "name": "python3"
  },
  "language_info": {
   "codemirror_mode": {
    "name": "ipython",
    "version": 3
   },
   "file_extension": ".py",
   "mimetype": "text/x-python",
   "name": "python",
   "nbconvert_exporter": "python",
   "pygments_lexer": "ipython3",
   "version": "3.8.16"
  },
  "orig_nbformat": 4
 },
 "nbformat": 4,
 "nbformat_minor": 2
}
