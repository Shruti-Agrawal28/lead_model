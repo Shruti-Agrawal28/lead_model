{
 "cells": [
  {
   "attachments": {},
   "cell_type": "markdown",
   "id": "3e0fef72",
   "metadata": {},
   "source": [
    "# Lead Scoring Model"
   ]
  },
  {
   "attachments": {},
   "cell_type": "markdown",
   "id": "f32899bd",
   "metadata": {},
   "source": [
    "#### IMPORTING STATEMENTS"
   ]
  },
  {
   "cell_type": "code",
   "execution_count": 1,
   "id": "db2f761d",
   "metadata": {},
   "outputs": [],
   "source": [
    "import pandas as pd\n",
    "import seaborn as sns\n",
    "import matplotlib.pyplot as plt\n",
    "%matplotlib inline\n",
    "from sklearn.preprocessing import LabelEncoder\n",
    "le = LabelEncoder()\n",
    "import re\n",
    "import numpy as np\n",
    "from sklearn.compose import ColumnTransformer\n",
    "from sklearn.pipeline import Pipeline\n",
    "from sklearn.preprocessing import StandardScaler\n",
    "from sklearn.model_selection import train_test_split\n",
    "from sklearn.ensemble import RandomForestClassifier, AdaBoostClassifier, ExtraTreesClassifier, BaggingClassifier, StackingClassifier, GradientBoostingClassifier\n",
    "from sklearn.tree import DecisionTreeClassifier\n",
    "from sklearn.neighbors import KNeighborsClassifier\n",
    "from sklearn.linear_model import LogisticRegression, SGDClassifier\n",
    "from sklearn.neural_network import MLPClassifier\n",
    "from sklearn.naive_bayes import BernoulliNB, GaussianNB\n",
    "from sklearn.svm import SVC\n",
    "from sklearn.model_selection import GridSearchCV, RandomizedSearchCV, cross_val_score\n",
    "from sklearn.metrics import accuracy_score, classification_report, confusion_matrix, roc_curve, roc_auc_score, recall_score, precision_score, f1_score\n",
    "import warnings\n",
    "warnings.filterwarnings(\"ignore\")"
   ]
  },
  {
   "cell_type": "code",
   "execution_count": 2,
   "id": "f6efa45c",
   "metadata": {},
   "outputs": [],
   "source": [
    "df = pd.read_excel(\"Data_Science_Internship.xlsx\")"
   ]
  },
  {
   "cell_type": "code",
   "execution_count": 3,
   "id": "544e21d3",
   "metadata": {
    "scrolled": false
   },
   "outputs": [
    {
     "name": "stdout",
     "output_type": "stream",
     "text": [
      "<class 'pandas.core.frame.DataFrame'>\n",
      "RangeIndex: 46608 entries, 0 to 46607\n",
      "Data columns (total 16 columns):\n",
      " #   Column          Non-Null Count  Dtype         \n",
      "---  ------          --------------  -----         \n",
      " 0   Unnamed: 0      46608 non-null  int64         \n",
      " 1   Agent_id        46608 non-null  object        \n",
      " 2   status          46608 non-null  object        \n",
      " 3   lost_reason     43244 non-null  object        \n",
      " 4   budget          42908 non-null  object        \n",
      " 5   lease           44267 non-null  object        \n",
      " 6   movein          32970 non-null  datetime64[ns]\n",
      " 7   source          46608 non-null  object        \n",
      " 8   source_city     46608 non-null  object        \n",
      " 9   source_country  46608 non-null  object        \n",
      " 10  utm_source      46608 non-null  object        \n",
      " 11  utm_medium      46608 non-null  object        \n",
      " 12  des_city        46608 non-null  object        \n",
      " 13  des_country     46608 non-null  object        \n",
      " 14  room_type       23061 non-null  object        \n",
      " 15  lead_id         46608 non-null  object        \n",
      "dtypes: datetime64[ns](1), int64(1), object(14)\n",
      "memory usage: 5.7+ MB\n"
     ]
    }
   ],
   "source": [
    "df.info()"
   ]
  },
  {
   "cell_type": "code",
   "execution_count": 4,
   "id": "f29d3382",
   "metadata": {},
   "outputs": [],
   "source": [
    "df.drop('Unnamed: 0', axis=1, inplace=True)\n"
   ]
  },
  {
   "cell_type": "code",
   "execution_count": 5,
   "id": "da6d03fb",
   "metadata": {},
   "outputs": [],
   "source": [
    "df.drop(df[(df[\"status\"] != \"LOST\") & (df[\"status\"] != \"WON\")].index, inplace = True)\n",
    "df.replace('9b2d5b4678781e53038e91ea5324530a03f27dc1d0e5f6c9bc9d493a23be9de0', 0, inplace=True)\n",
    "df.lease.replace('lease', 0, inplace=True)\n",
    "df.replace(0, np.nan, inplace=True)\n",
    "df.dropna(thresh= 12, inplace= True)"
   ]
  },
  {
   "attachments": {},
   "cell_type": "markdown",
   "id": "2e1475a6",
   "metadata": {},
   "source": [
    "***PREPROCESSING ON LEASE COLUMN***"
   ]
  },
  {
   "cell_type": "code",
   "execution_count": null,
   "id": "a53d7056",
   "metadata": {},
   "outputs": [],
   "source": [
    "df[\"lease\"] = df[\"lease\"].str.replace(\"\\\\\", \" \")\n",
    "df[\"lease\"] = df[\"lease\"].str.replace(\"/\", \" \")\n",
    "df[\"lease\"] = df[\"lease\"].str.replace(\"mnth\", \"months\")\n",
    "df[\"lease\"] = df[\"lease\"].str.replace(\"Stay\", \"\")\n",
    "df[\"lease\"] = df[\"lease\"].str.replace(\"weeeks\", \"\")\n",
    "df[\"lease\"] = df[\"lease\"].str.replace(\"2 years\", \"100\")\n",
    "df[\"lease\"] = df[\"lease\"].str.replace(\"Other\", \"0\", flags= re.IGNORECASE)\n",
    "df[\"lease\"] = df[\"lease\"].str.replace(\"44 51\", \"45\")\n",
    "df[\"lease\"] = df[\"lease\"].str.replace(\"WEEKS\", \"weeks\")\n",
    "df[\"lease\"] = df[\"lease\"].str.replace(\"not sure\", \"0\")\n",
    "df[\"lease\"] = df[\"lease\"].str.replace(\"ASAP\", \"0\")\n",
    "df[\"lease\"] = df[\"lease\"].str.replace(\"3 years\", \"150\")\n",
    "df[\"lease\"] = df[\"lease\"].str.replace(\"1 month \", \"4\")\n",
    "df[\"lease\"] = df[\"lease\"].str.replace(\"<=8\", \"8\")\n",
    "df[\"lease\"] = df[\"lease\"].str.replace(\"7 days\", \"1\")\n",
    "df[\"lease\"] = df[\"lease\"].str.replace(\"44 or 51 \", \"45\")\n",
    "df[\"lease\"] = df[\"lease\"].str.replace(\"51s\", \"51\")\n",
    "df[\"lease\"] = df[\"lease\"].str.replace(\"Weeks\", \"week\")\n",
    "df[\"lease\"] = df[\"lease\"].str.replace(\"43 44 \", \"44\")\n",
    "df.loc[df[\"lease\"].str.contains(\"Full year\",na= False, flags= re.IGNORECASE), \"lease\"] = \"42 weeks\"\n",
    "df.loc[df[\"lease\"].str.contains(\"1 year\",na= False, flags= re.IGNORECASE), \"lease\"] = \"42 weeks\"\n",
    "df.loc[df[\"lease\"].str.contains(\"1year\",na= False, flags= re.IGNORECASE), \"lease\"] = \"42 weeks\"\n",
    "df.loc[df[\"lease\"].str.contains(\"Full yyear\",na= False, flags= re.IGNORECASE), \"lease\"] = \"42 weeks\"\n",
    "df.loc[df[\"lease\"].str.contains(\"Full-year\",na= False, flags= re.IGNORECASE), \"lease\"] = \"42 weeks\"\n",
    "df.loc[df[\"lease\"].str.contains(\"Full-COURSE\",na= False, flags= re.IGNORECASE), \"lease\"] = \"52 weeks\"\n",
    "df.loc[df[\"lease\"].str.contains(\"COMPLETE \",na= False, flags= re.IGNORECASE), \"lease\"] = \"52 weeks\"\n",
    "df.loc[df[\"lease\"].str.contains(\"SEM\",na= False, flags= re.IGNORECASE), \"lease\"] = \"22 weeks\"\n",
    "df.loc[df[\"lease\"].str.contains(\"SHORT\",na= False, flags= re.IGNORECASE), \"lease\"] = \"9 weeks\"\n",
    "df.loc[df[\"lease\"].str.contains(\"dec\",na= False, flags= re.IGNORECASE), \"lease\"] = \"52 weeks\"\n",
    "df.loc[df[\"lease\"].str.contains(\"dec\",na= False, flags= re.IGNORECASE), \"lease\"] = \"52 weeks\"\n",
    "df.loc[df[\"lease\"].str.contains(\"whole year\",na= False, flags= re.IGNORECASE), \"lease\"] = \"42 weeks\"\n",
    "df.loc[df[\"lease\"].str.contains(\"full course\",na= False, flags= re.IGNORECASE), \"lease\"] = \"52 weeks\"\n",
    "df.loc[df[\"lease\"].str.contains(\"academic\",na= False, flags= re.IGNORECASE), \"lease\"] = \"52 weeks\"\n",
    "df.loc[df[\"lease\"].str.contains(\"aug\",na= False, flags= re.IGNORECASE), \"lease\"] = \"32 weeks\"\n",
    "\n"
   ]
  },
  {
   "cell_type": "code",
   "execution_count": null,
   "id": "ceddb193",
   "metadata": {},
   "outputs": [],
   "source": [
    "b = df[df[\"lease\"].str.endswith((\"month\",\"mnth\",\"months\",\"m\"), na=False)]\n",
    "b[[\"start\", \"end\"]] = b[\"lease\"].str.split(\" \", expand=True)\n",
    "b = b.drop(\"end\", axis=1)\n",
    "b[\"start\"] = b[\"start\"].str.replace(\"long\", \"12\")\n",
    "b[\"start\"] = b[\"start\"].str.replace(\"pm\",\"\")\n",
    "b[\"start\"] = b[\"start\"].str.replace(\"months\",\"\")\n",
    "b[\"start\"] = b[\"start\"].str.replace(\"m\",\"\")\n",
    "b[\"start\"] = b[\"start\"].str.replace(\"-\", \"+\")\n"
   ]
  },
  {
   "cell_type": "code",
   "execution_count": null,
   "id": "a82154a8",
   "metadata": {},
   "outputs": [],
   "source": [
    "for i in b[\"start\"].index:\n",
    "    if \"+\" in b[\"start\"][i]:\n",
    "        j = b[\"start\"][i]\n",
    "        l,m = j.split(\"+\")\n",
    "        b[\"start\"][i]= (int(l)+int(m))/2"
   ]
  },
  {
   "cell_type": "code",
   "execution_count": null,
   "id": "81cc2c5e",
   "metadata": {},
   "outputs": [],
   "source": [
    "b[\"lease\"] = (b[\"start\"].astype(int)) * 4\n",
    "b[\"lease\"] = b[\"lease\"].replace(2100, 0)\n",
    "b.drop(\"start\", axis=1 , inplace=True)\n",
    "b[\"lease\"] = b[\"lease\"].astype(str)\n",
    "df.update(b)\n",
    "df = df.reset_index(drop=True)\n"
   ]
  },
  {
   "cell_type": "code",
   "execution_count": null,
   "id": "43706c54",
   "metadata": {},
   "outputs": [],
   "source": [
    "df.lease.iloc[34527] = \"12\"\n",
    "df.lease.iloc[9806] = \"4\"\n",
    "df.lease.iloc[27381] = \"51\"\n",
    "df.lease.iloc[30763] = \"44\"\n",
    "df.lease.iloc[12166] = \"0\"\n",
    "df.lease.iloc[11862] = \"20\""
   ]
  },
  {
   "cell_type": "code",
   "execution_count": null,
   "id": "de76e046",
   "metadata": {},
   "outputs": [],
   "source": [
    "df.lease = df.lease.astype(str)"
   ]
  },
  {
   "cell_type": "code",
   "execution_count": null,
   "id": "b81f7eaa",
   "metadata": {},
   "outputs": [],
   "source": [
    "for i in df.lease.index:\n",
    "    if \"week\" in df.lease.iloc[i] or \"weeks\" in df.lease.iloc[i]:\n",
    "        j = df[\"lease\"].iloc[i]\n",
    "        l,m = j.split(\"w\",1)\n",
    "        df[\"lease\"][i]= (l)\n",
    "    elif df.lease.iloc[i] == \"\":\n",
    "        df.lease.iloc[i] = \"0\"\n",
    "    "
   ]
  },
  {
   "cell_type": "code",
   "execution_count": null,
   "id": "b006fe78",
   "metadata": {},
   "outputs": [],
   "source": [
    "for i in df.lease.index:\n",
    "    if \"-\" in df.lease.iloc[i]:\n",
    "        j = df[\"lease\"].iloc[i]\n",
    "        l,m = j.split(\"-\",1)\n",
    "        df[\"lease\"][i]= (int(l)+int(m))/2"
   ]
  },
  {
   "attachments": {},
   "cell_type": "markdown",
   "id": "7a059ff4",
   "metadata": {},
   "source": [
    "***CONVERTING LEASE COLUMN INTO CATEGORICAL COLUMN***"
   ]
  },
  {
   "cell_type": "code",
   "execution_count": null,
   "id": "d903fca5",
   "metadata": {},
   "outputs": [],
   "source": [
    "df.lease = df[\"lease\"].replace(\"nan\", \"0\")\n",
    "df.lease = df.lease.astype(float)\n",
    "df.lease = df.lease.astype(int)\n",
    "df[\"cat_lease\"] = df[\"lease\"].replace({range(0,10):\"lowest\",range(10,20):\"low\",range(20,30):\"average\",range(30,40):\"medium\", range(40,50):\"high\",range(50,70):\"higher\", range(70, 300): \"highest\"})\n",
    "df.cat_lease = le.fit_transform(df.cat_lease)"
   ]
  },
  {
   "attachments": {},
   "cell_type": "markdown",
   "id": "d11d7d7e",
   "metadata": {},
   "source": [
    "***PREPROCESSING ON BUDGET COLUMN***"
   ]
  },
  {
   "cell_type": "code",
   "execution_count": null,
   "id": "42c4ad55",
   "metadata": {},
   "outputs": [],
   "source": [
    "try:\n",
    "    df[\"budget\"].iloc[18738] = \"0\"\n",
    "    df.loc[df[\"budget\"].str.contains(\"no\",na= False, flags= re.IGNORECASE), \"budget\"] = \"0\"\n",
    "    df[\"budget\"] = df[\"budget\"].str.replace(\"pw\", \" Per Week\")\n",
    "    df[\"budget\"] = df[\"budget\"].str.replace(\"pcm\", \" per month\")\n",
    "    df[\"budget\"] = df[\"budget\"].str.replace(\"PCM\", \" per month\")\n",
    "    df[\"budget\"] = df[\"budget\"].str.replace(\"pm\", \" per month\")\n",
    "    df[\"budget\"] = df[\"budget\"].str.replace(\"  Per Week -151 \", \"-151\")\n",
    "    df[\"budget\"] = df[\"budget\"].str.replace(\"0 month\", \"0 per month\")\n",
    "    df[\"budget\"] = df[\"budget\"].str.replace(\"0 week\", \"0 Per Week\")\n",
    "    df[\"budget\"] = df[\"budget\"].str.replace(\" Per Week\", \"\")\n",
    "    df[\"budget\"] = df[\"budget\"].str.replace(\" Per week\", \"\")\n",
    "    df[\"budget\"] = df[\"budget\"].str.replace(\" per week \", \"\")\n",
    "    df[\"budget\"] = df[\"budget\"].str.replace(\" per weeks\", \"\")\n",
    "    df[\"budget\"] = df[\"budget\"].str.replace(\"per ek\", \" Per Week\")\n",
    "    df[\"budget\"] = df[\"budget\"].str.replace(\"Per week\", \"\")\n",
    "    df[\"budget\"] = df[\"budget\"].str.replace(\" per week\", \"\")\n",
    "    df[\"budget\"] = df[\"budget\"].str.replace(\"£\", \"\")\n",
    "    df[\"budget\"] = df[\"budget\"].str.replace(\"0-0\", \"0\")\n",
    "    df[\"budget\"] = df[\"budget\"].str.replace(\"/\", \" \")\n",
    "    df[\"budget\"] = df[\"budget\"].replace(np.nan, \"0\")\n",
    "    df[\"budget\"] = df[\"budget\"].str.replace(\"month \", \" per month\")\n",
    "    df[\"budget\"] = df.budget.str.replace(\"160 200\", \"160-200\")\n",
    "    df[\"budget\"] = df.budget.str.replace(\">\", \"\")\n",
    "    df[\"budget\"] = df.budget.str.replace(\"0-100 Pounds\", \"0-113\")\n",
    "    df[\"budget\"] = df.budget.str.replace(\"0-200-400\", \"200\")\n",
    "    df[\"budget\"] = df.budget.str.replace(\"€\", \"\")\n",
    "    df[\"budget\"] = df.budget.str.replace(\"s\", \"\")\n",
    "    df[\"budget\"] = df.budget.str.replace(\"Le than  \", \"\")\n",
    "    df[\"budget\"] = df.budget.str.replace(\"0-60 to 75\", \"70\")\n",
    "    df[\"budget\"] = df.budget.str.replace(\"0-200-260\", \"200-260\")\n",
    "    df[\"budget\"] = df.budget.str.replace(\"Around 400 pound\", \"450\")\n",
    "    df[\"budget\"] = df.budget.str.replace(\"prw\", \"\")\n",
    "    df[\"budget\"] = df.budget.str.replace(\"0-10,000 GBP PA\", \"0-235\")\n",
    "    df[\"budget\"] = df.budget.str.replace(\"cheapet-highet\", \"0 - 100\")\n",
    "    df[\"budget\"] = df.budget.str.replace(\"0-260-275\", \"270\")\n",
    "    df[\"budget\"] = df.budget.str.replace(\"50 -60 gbp\", \"55-65\")\n",
    "    df[\"budget\"] = df.budget.str.replace(\"0-120 140\", \"130\")\n",
    "    df[\"budget\"] = df.budget.str.replace(\"0-120 to 180\", \"150\")\n",
    "    df[\"budget\"] = df.budget.str.replace(\"0-5-10 lakh\", \"115-230\")\n",
    "    df[\"budget\"] = df.budget.str.replace(\"90-100 gbp\", \"110\")\n",
    "    df[\"budget\"] = df.budget.str.replace(\"max budget\", \"\")\n",
    "    df[\"budget\"] = df.budget.str.replace(\"0-130-175\", \"0-175\")\n",
    "    df[\"budget\"] = df.budget.str.replace(\"flexible\", \"100\")\n",
    "    df[\"budget\"] = df.budget.str.replace(\"maximum\", \"\")\n",
    "    df[\"budget\"] = df.budget.str.replace(\"0-Between\", \"\")\n",
    "    df[\"budget\"] = df.budget.str.replace(\"110 s\", \"110\")\n",
    "    df[\"budget\"] = df.budget.str.replace(\"flexible\", \"100\")\n",
    "    df[\"budget\"] = df.budget.str.replace(\" week\", \"\")\n",
    "    df[\"budget\"] = df.budget.str.replace(\" WEEK\", \"\")\n",
    "    df[\"budget\"] = df.budget.str.replace(\" W\", \"\")\n",
    "    df[\"budget\"] = df.budget.str.replace(\"week\", \"\")\n",
    "    df[\"budget\"] = df.budget.str.replace(\"Pereek\", \"\")\n",
    "    df[\"budget\"] = df.budget.str.replace(\"7000 pound\", \"165\")\n",
    "    df[\"budget\"] = df.budget.str.replace(\"month.\", \"month\")\n",
    "    df[\"budget\"] = df.budget.str.replace(\"momth\", \"month\")\n",
    "    df[\"budget\"].iloc[18008] = \"0\"\n",
    "    df.budget.iloc[610] = \"0\"\n",
    "    df.room_type.iloc[610] = \"Ensuite\"\n",
    "    df[\"budget\"] = df['budget'].replace(np.nan, 0)\n",
    "except Exception as e:\n",
    "    print(e)"
   ]
  },
  {
   "cell_type": "code",
   "execution_count": null,
   "id": "065a905a",
   "metadata": {},
   "outputs": [],
   "source": [
    "try:\n",
    "    a = df[df[\"budget\"].str.endswith(\"month\", na=False)]\n",
    "    a[[\"start\", \"end\"]] = a[\"budget\"].str.split(\"per month\", expand=True)\n",
    "except Exception as e:\n",
    "    print(e)"
   ]
  },
  {
   "cell_type": "code",
   "execution_count": null,
   "id": "a7772e58",
   "metadata": {},
   "outputs": [],
   "source": [
    "try:    \n",
    "    a[\"start\"] = a[\"start\"].str.replace(\"500 600\", \"500-600\")\n",
    "    a[\"start\"] = a[\"start\"].str.replace(\">\", \"0-\")\n",
    "    a[[\"start\", \"end\"]] = a[\"start\"].str.split(\"month\", expand=True,n=1)\n",
    "    a[[\"start\", \"middle\", \"last\"]] = a[\"start\"].str.split(\"-\", expand=True)\n",
    "    a[\"start\"] = a[\"start\"].replace(np.nan, 0)\n",
    "    a[\"middle\"] = a[\"middle\"].str.replace(\"Per\",\"\")\n",
    "    a[\"start\"] = a[\"start\"].str.replace(\"p\",\"\")\n",
    "    a[\"start\"] = a[\"start\"].str.replace(\"a\",\"\")\n",
    "    a[\"start\"] = a[\"start\"].str.replace(\"Per\",\"\")\n",
    "    a[\"start\"] = a[\"start\"].str.replace(\"m\",\"\")\n",
    "    a[\"middle\"] = a[\"middle\"].replace(np.nan, 0)\n",
    "    a[\"start\"] = (a[\"start\"]).astype(int)\n",
    "    a[\"middle\"] = (a[\"middle\"]).astype(int)\n",
    "    a[\"start\"] = (a[\"start\"]/4)\n",
    "    a[\"middle\"] = (a[\"middle\"]/4)\n",
    "except Exception as e:\n",
    "    print(e)"
   ]
  },
  {
   "cell_type": "code",
   "execution_count": null,
   "id": "a904965e",
   "metadata": {},
   "outputs": [],
   "source": [
    "a = a.drop(\"end\", axis=1)\n",
    "a = a.drop(\"last\", axis=1)"
   ]
  },
  {
   "cell_type": "code",
   "execution_count": null,
   "id": "7368e065",
   "metadata": {},
   "outputs": [],
   "source": [
    " \n",
    "def concat_col_mid(data: pd.DataFrame):\n",
    "    try:\n",
    "        start_col = data['start']\n",
    "        middle_col = data['middle']\n",
    "        \n",
    "        for row in data.index:\n",
    "            start_value = start_col[row]\n",
    "            middle_col_val = middle_col[row]\n",
    "            \n",
    "            new_value = f\"{int(start_value)}-{int(middle_col_val)}\" if not int(middle_col_val) == 0 else str(int(start_value))\n",
    "            data[\"budget\"][row] = new_value\n",
    "        \n",
    "        return data\n",
    "    except Exception as e:\n",
    "        print(e)\n",
    "    \n",
    "a = concat_col_mid(a)\n",
    "    \n",
    "    "
   ]
  },
  {
   "cell_type": "code",
   "execution_count": null,
   "id": "a770ef9e",
   "metadata": {},
   "outputs": [],
   "source": [
    "for i in a[\"budget\"].index:\n",
    "    if \"-\" in a[\"budget\"][i]:\n",
    "        j = a[\"budget\"][i]\n",
    "        l,m = j.split(\"-\")\n",
    "        a[\"budget\"][i]= (int(l)+int(m))/2"
   ]
  },
  {
   "cell_type": "code",
   "execution_count": null,
   "id": "3ede3ba5",
   "metadata": {},
   "outputs": [],
   "source": [
    "for i in df[\"budget\"].index:\n",
    "    if \"-\" in df[\"budget\"][i] and \"month\" not in df[\"budget\"][i]:\n",
    "        j = df[\"budget\"][i]\n",
    "        l,m = j.split(\"-\")\n",
    "        df[\"budget\"][i]= (int(l)+int(m))/2\n",
    "    elif \"pound\" in df[\"budget\"].iloc[i]:\n",
    "        j = df[\"budget\"][i]\n",
    "        l,m = j.split(\"p\")\n",
    "        df[\"budget\"][i]= int(float(l) * 1.13)"
   ]
  },
  {
   "cell_type": "code",
   "execution_count": null,
   "id": "4c511daf",
   "metadata": {},
   "outputs": [],
   "source": [
    "df.budget = df.budget.astype(str)\n",
    "df.update(a)\n"
   ]
  },
  {
   "cell_type": "code",
   "execution_count": null,
   "id": "e95b321a",
   "metadata": {},
   "outputs": [],
   "source": [
    "\n",
    "df[\"room_type\"].iloc[22428]  = \"Studio\"\n",
    "df[\"budget\"].iloc[22428] = \"0\"\n"
   ]
  },
  {
   "cell_type": "code",
   "execution_count": null,
   "id": "37ca19ab",
   "metadata": {},
   "outputs": [],
   "source": [
    "def changed_budget(df):    \n",
    "    df.budget = df.budget.str.replace(\"EPW\", \"\")\n",
    "    df.budget = df.budget.str.replace(\"300 per ek\", \"300\")\n",
    "    df.budget = df.budget.str.replace(\"PW\", \"\")\n",
    "    df.budget = df.budget.str.replace(\"euro\", \"\")\n",
    "    df.budget = df.budget.str.replace(\"460  per month\", \"115\")\n",
    "    df.budget = df.budget.str.replace('1000 per  per monthfor 3', \"85\")\n",
    "    df.budget = df.budget.str.replace(\"400 m\", \"100\")\n",
    "    df.budget = df.budget.str.replace(\"600 Per monthly\", \"150\")\n",
    "    df.budget = df.budget.str.replace(\"500  per month\", \"125\")\n",
    "    df.budget = df.budget.str.replace(\"44 51\", \"45\")\n",
    "    df.budget = df.budget.str.replace(\"max\", \"\")\n",
    "    df.budget = df.budget.str.replace(\"tbh\", \"0\")\n",
    "    df.budget = df.budget.str.replace(\"165 170\", \"165\")\n",
    "    df.budget = df.budget.str.replace(\"300ly\", \"300\")\n",
    "    df.budget = df.budget.str.replace(\"100 Gbpo\", \"110\")\n",
    "    df.budget = df.budget.str.replace(\"tbd\", \"0\")\n",
    "    df.budget = df.budget.str.replace(\"Be30 200 GBP\", \"128\")\n",
    "    df.budget = df.budget.str.replace(\"low\", \"30\")\n",
    "    df.budget = df.budget.str.replace(\"30et\", \"30\")\n",
    "    df.budget = df.budget.str.replace(\"100 p for 2 people\", \"50\")\n",
    "    df.budget = df.budget.str.replace(\"okay with\", \"0\")\n",
    "    df.budget = df.budget.str.replace(\"0 250\", \"125\")\n",
    "    df.budget = df.budget.str.replace(\"na\", \"0\")\n",
    "    df.budget = df.budget.str.replace(\"na\", \"0\")\n",
    "    df.budget = df.budget.str.replace(\"\\\\\", \"\")\n",
    "    df.budget = df.budget.str.replace(\"PPW\", \"\")\n",
    "    df.budget = df.budget.str.replace(\"150$\", \"135\")\n",
    "    df.budget = df.budget.str.replace(\"460 month max\", \"115\")\n",
    "    df.budget = df.budget.str.replace(\"w\", \"\")\n",
    "    df.budget = df.budget.str.replace(\"200 to 210\", \"205\")\n",
    "    df.budget = df.budget.str.replace(\"700PPM\", \"175\")\n",
    "    df.budget = df.budget.str.replace(\"1000 per month for 3\", \"85\")\n",
    "    df.budget = df.budget.str.replace(\"cheapet\", \"0\")\n",
    "    df.budget = df.budget.str.replace(\"500 PM\", \"125\")\n",
    "    df.budget = df.budget.str.replace(\"150'\", \"150\")\n",
    "    df.budget = df.budget.str.replace(\"280W\", \"280\")\n",
    "    df.budget = df.budget.str.replace(\"P\", \"\")\n",
    "    df.budget = df.budget.str.replace(\"Be30 200 GB\", \"128\")\n",
    "    df.budget = df.budget.str.replace(\"300 per ek\", \"300\")\n",
    "    df.budget = df.budget.str.replace(\"be30 100 gbp\", \"72\")\n",
    "    df.budget = df.budget.str.replace(\"(30 budget)\", \"\")\n",
    "\n",
    "    return df\n"
   ]
  },
  {
   "cell_type": "code",
   "execution_count": null,
   "id": "e4359ac8",
   "metadata": {},
   "outputs": [],
   "source": [
    "df = changed_budget(df)\n",
    "df.budget = df.budget.astype(float)\n",
    "df.budget = df.budget.replace(np.nan, 0)\n",
    "df.budget = df.budget.astype(int)\n"
   ]
  },
  {
   "attachments": {},
   "cell_type": "markdown",
   "id": "c0cc071b",
   "metadata": {},
   "source": [
    "***CONVERTING BUDGET COLUMN INTO CATEGORICAL COLUMN***"
   ]
  },
  {
   "cell_type": "code",
   "execution_count": null,
   "id": "e1c4c31f",
   "metadata": {},
   "outputs": [],
   "source": [
    "df[\"cat_budget\"] = df[\"budget\"].replace({range(0,100):\"lowest\",range(100,200):\"low\",range(200,300):\"average\",range(300,400):\"medium\", range(400,500):\"good\",range(500,700):\"better\", range(700, 1600): \"best\"})\n",
    "df.cat_budget = le.fit_transform(df.cat_budget)\n"
   ]
  },
  {
   "cell_type": "code",
   "execution_count": null,
   "id": "89946fb1",
   "metadata": {},
   "outputs": [],
   "source": [
    "df.reset_index(inplace= True, drop= True)"
   ]
  },
  {
   "attachments": {},
   "cell_type": "markdown",
   "id": "a9d9041d",
   "metadata": {},
   "source": [
    "##### LABEL ENCODING CATEGORICAL COLUMNS"
   ]
  },
  {
   "cell_type": "code",
   "execution_count": null,
   "id": "a920d803",
   "metadata": {},
   "outputs": [],
   "source": [
    "categorical_features = [feature for feature in df.columns if df[feature].dtype == 'O' and feature not in [\"lease\"] and feature not in [\"budget\"]]\n",
    "for i in df.columns:\n",
    "        if i in categorical_features:\n",
    "            df[i] = le.fit_transform(df[i])"
   ]
  },
  {
   "attachments": {},
   "cell_type": "markdown",
   "id": "32b12deb",
   "metadata": {},
   "source": [
    "***DROPPING SOME COLUMNS***"
   ]
  },
  {
   "cell_type": "code",
   "execution_count": null,
   "id": "027f95f2",
   "metadata": {},
   "outputs": [],
   "source": [
    "df = df.drop([\"movein\",\"budget\", \"lease\"],axis=1)"
   ]
  },
  {
   "attachments": {},
   "cell_type": "markdown",
   "id": "a3786724",
   "metadata": {},
   "source": [
    "***Saving dataframes to .csv files***"
   ]
  },
  {
   "cell_type": "code",
   "execution_count": null,
   "id": "7870b4fc",
   "metadata": {},
   "outputs": [],
   "source": [
    "df.to_csv(\"cleaned_data.csv\",index= False)\n"
   ]
  },
  {
   "cell_type": "code",
   "execution_count": null,
   "id": "4ca04643",
   "metadata": {},
   "outputs": [],
   "source": [
    "X = df.drop([\"status\"],axis=1)\n",
    "y = df[\"status\"]"
   ]
  },
  {
   "cell_type": "code",
   "execution_count": null,
   "id": "802f476e",
   "metadata": {},
   "outputs": [],
   "source": [
    "X_train, X_test, y_train, y_test = train_test_split(X, y, test_size=0.33, random_state=42)\n",
    "train_data = pd.concat([X_train,y_train], axis=1)\n",
    "test_data = pd.concat([X_test,y_test], axis=1)\n",
    "train_data.to_csv(\"train.csv\",index= False)\n",
    "test_data.to_csv(\"test.csv\",index= False)\n"
   ]
  }
 ],
 "metadata": {
  "kernelspec": {
   "display_name": "Python 3 (ipykernel)",
   "language": "python",
   "name": "python3"
  },
  "language_info": {
   "codemirror_mode": {
    "name": "ipython",
    "version": 3
   },
   "file_extension": ".py",
   "mimetype": "text/x-python",
   "name": "python",
   "nbconvert_exporter": "python",
   "pygments_lexer": "ipython3",
   "version": "3.8.16"
  }
 },
 "nbformat": 4,
 "nbformat_minor": 5
}
